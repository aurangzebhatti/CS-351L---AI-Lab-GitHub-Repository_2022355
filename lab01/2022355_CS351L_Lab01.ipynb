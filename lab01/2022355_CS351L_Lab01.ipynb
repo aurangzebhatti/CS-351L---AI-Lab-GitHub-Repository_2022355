{
  "nbformat": 4,
  "nbformat_minor": 0,
  "metadata": {
    "colab": {
      "provenance": []
    },
    "kernelspec": {
      "name": "python3",
      "display_name": "Python 3"
    },
    "language_info": {
      "name": "python"
    }
  },
  "cells": [
    {
      "cell_type": "markdown",
      "source": [
        "BFS CODE"
      ],
      "metadata": {
        "id": "Bk8D5FpfVIf0"
      }
    },
    {
      "cell_type": "code",
      "execution_count": 1,
      "metadata": {
        "colab": {
          "base_uri": "https://localhost:8080/"
        },
        "id": "q79b4oABTGiJ",
        "outputId": "0249104b-1fc6-41ba-8d47-d12b744e7cf1"
      },
      "outputs": [
        {
          "output_type": "stream",
          "name": "stdout",
          "text": [
            "Think of a number between 1 and 100, and I (the AI) will try to guess it using a randomized BFS approach.\n",
            "AI's guess (1/10) is: 16\n",
            "Enter 'h' if too high, 'l' if too low, or 'c' if correct: l\n",
            "AI's guess (2/10) is: 72\n",
            "Enter 'h' if too high, 'l' if too low, or 'c' if correct: h\n",
            "AI's guess (3/10) is: 20\n",
            "Enter 'h' if too high, 'l' if too low, or 'c' if correct: l\n",
            "AI's guess (4/10) is: 45\n",
            "Enter 'h' if too high, 'l' if too low, or 'c' if correct: l\n",
            "AI's guess (5/10) is: 59\n",
            "Enter 'h' if too high, 'l' if too low, or 'c' if correct: l\n",
            "AI's guess (6/10) is: 68\n",
            "Enter 'h' if too high, 'l' if too low, or 'c' if correct: l\n",
            "AI's guess (7/10) is: 69\n",
            "Enter 'h' if too high, 'l' if too low, or 'c' if correct: c\n",
            "I (AI) guessed the number in 7 attempts using randomized BFS!\n"
          ]
        }
      ],
      "source": [
        "import random\n",
        "from collections import deque\n",
        "\n",
        "def ai_number_guessing_game_bfs_random_limited():\n",
        "    # player to think of a number\n",
        "    print(\"Think of a number between 1 and 100, and I (the AI) will try to guess it using a randomized BFS approach.\")\n",
        "\n",
        "    # Initialize the range\n",
        "    low = 1\n",
        "    high = 100\n",
        "    # Defining the maximum number of attempts the AI can make\n",
        "    max_attempts = 10\n",
        "    attempts = 0\n",
        "\n",
        "\n",
        "    # Initializing the queue with all possible guesses\n",
        "    queue = deque(range(low, high + 1))\n",
        "\n",
        "    # Perform randomized BFS to guess the number\n",
        "    while queue and attempts < max_attempts:\n",
        "        # Guess a random number from the remaining possible guesses in the queue\n",
        "        guess = random.choice(queue)\n",
        "        attempts += 1\n",
        "\n",
        "        print(f\"AI's guess ({attempts}/{max_attempts}) is: {guess}\")\n",
        "        # Get feedback from the player\n",
        "        feedback = input(\"Enter 'h' if too high, 'l' if too low, or 'c' if correct: \").strip().lower()\n",
        "\n",
        "        if feedback == 'c':\n",
        "            # Player confirms the guess is correct\n",
        "            print(f\"I (AI) guessed the number in {attempts} attempts using randomized BFS!\")\n",
        "            return\n",
        "        elif feedback == 'h':\n",
        "            # If the guess is to high, remove all numbers greater than the current guess\n",
        "            queue = deque(num for num in queue if num < guess)\n",
        "        elif feedback == 'l':\n",
        "            # If the guess is to low, remove all numbers less than the current guess\n",
        "            queue = deque(num for num in queue if num > guess)\n",
        "        else:\n",
        "            print(\"Invalid input. Please enter 'h', 'l', or 'c'.\")\n",
        "\n",
        "    # Handle situation if the AI cannot guess within 10 attempts\n",
        "    print(f\"I (AI) couldn't guess the number within {max_attempts} attempts. Better luck next time!\")\n",
        "\n",
        "# Run the game\n",
        "ai_number_guessing_game_bfs_random_limited() #calling the function\n"
      ]
    },
    {
      "cell_type": "markdown",
      "source": [],
      "metadata": {
        "id": "2Y8486JFVOxD"
      }
    },
    {
      "cell_type": "markdown",
      "source": [],
      "metadata": {
        "id": "phCsY6LDVOax"
      }
    },
    {
      "cell_type": "markdown",
      "source": [
        "DFS CODE"
      ],
      "metadata": {
        "id": "-Cin1Te7VOQk"
      }
    },
    {
      "cell_type": "code",
      "source": [
        "import random\n",
        "from collections import deque\n",
        "\n",
        "def ai_number_guessing_game_dfs_random():\n",
        "    # Prompt the player to think of a number\n",
        "    print(\"Think of a number between 1 and 100, and I (the AI) will try to guess it using a randomized DFS-like approach.\")\n",
        "\n",
        "    # Initialize the search range\n",
        "    low = 1\n",
        "    high = 100\n",
        "    attempts = 0\n",
        "    max_attempts = 10\n",
        "\n",
        "    # Initialize the stack with all possible guesses\n",
        "    stack = deque(range(low, high + 1))\n",
        "\n",
        "    # Perform DFS to guess the number\n",
        "    while stack and attempts < max_attempts:\n",
        "        # Guess a random number from the remaining possible guesses in the stack\n",
        "        guess = random.choice(stack)  # Randomly pick from the current stack (DFS-like)\n",
        "        attempts += 1\n",
        "\n",
        "        print(f\"AI's guess ({attempts}/{max_attempts}) is: {guess}\")\n",
        "        # Get feedback from the player\n",
        "        feedback = input(\"Enter 'h' if too high, 'l' if too low, or 'c' if correct: \").strip().lower()\n",
        "\n",
        "        if feedback == 'c':\n",
        "            # Player confirms the guess is correct\n",
        "            print(f\"I (AI) guessed the number in {attempts} attempts using randomized DFS-like approach!\")\n",
        "            return\n",
        "        elif feedback == 'h':\n",
        "            # If the guess is too high, remove all numbers greater than the current guess\n",
        "            stack = deque(num for num in stack if num < guess)\n",
        "        elif feedback == 'l':\n",
        "            # If the guess is too low, remove all numbers less than the current guess\n",
        "            stack = deque(num for num in stack if num > guess)\n",
        "        else:\n",
        "            print(\"Invalid input. Please enter 'h', 'l', or 'c'.\")\n",
        "\n",
        "    # Handle situation if the AI cannot guess within 10 attempts\n",
        "    print(f\"I (AI) couldn't guess the number within {max_attempts} attempts. Better luck next time!\")\n",
        "\n",
        "# Run the game\n",
        "ai_number_guessing_game_dfs_random()\n"
      ],
      "metadata": {
        "colab": {
          "base_uri": "https://localhost:8080/"
        },
        "id": "OVmrI2boTmVk",
        "outputId": "79ec7e00-34e2-4b49-bc0a-72bc02f9a171"
      },
      "execution_count": 2,
      "outputs": [
        {
          "output_type": "stream",
          "name": "stdout",
          "text": [
            "Think of a number between 1 and 100, and I (the AI) will try to guess it using a randomized DFS-like approach.\n",
            "AI's guess (1/10) is: 79\n",
            "Enter 'h' if too high, 'l' if too low, or 'c' if correct: h\n",
            "AI's guess (2/10) is: 14\n",
            "Enter 'h' if too high, 'l' if too low, or 'c' if correct: l\n",
            "AI's guess (3/10) is: 59\n",
            "Enter 'h' if too high, 'l' if too low, or 'c' if correct: h\n",
            "AI's guess (4/10) is: 36\n",
            "Enter 'h' if too high, 'l' if too low, or 'c' if correct: l\n",
            "AI's guess (5/10) is: 46\n",
            "Enter 'h' if too high, 'l' if too low, or 'c' if correct: h\n",
            "AI's guess (6/10) is: 44\n",
            "Enter 'h' if too high, 'l' if too low, or 'c' if correct: l\n",
            "AI's guess (7/10) is: 45\n",
            "Enter 'h' if too high, 'l' if too low, or 'c' if correct: c\n",
            "I (AI) guessed the number in 7 attempts using randomized DFS-like approach!\n"
          ]
        }
      ]
    },
    {
      "cell_type": "markdown",
      "source": [],
      "metadata": {
        "id": "_JkswFLaVTte"
      }
    },
    {
      "cell_type": "markdown",
      "source": [],
      "metadata": {
        "id": "yFNPisD5VTpU"
      }
    },
    {
      "cell_type": "code",
      "source": [
        "RANDOM WALK CODE"
      ],
      "metadata": {
        "id": "IXpmUuniVVPt"
      },
      "execution_count": null,
      "outputs": []
    },
    {
      "cell_type": "markdown",
      "source": [],
      "metadata": {
        "id": "2ZbbhkO_VTiA"
      }
    },
    {
      "cell_type": "code",
      "source": [
        "import random\n",
        "\n",
        "def ai_number_guessing_game_random_walk():\n",
        "    print(\"Think of a number between 1 and 100, and I (the AI) will try to guess it using a random walk approach.\")\n",
        "\n",
        "    # Defining the initial range of possible numbers\n",
        "    min_value, max_value = 1, 100\n",
        "    # Track the number of attempts made by the AI\n",
        "    attempts = 0\n",
        "    # Defining the maximum number of attempts the AI can make\n",
        "    max_attempts = 10\n",
        "\n",
        "    # Creating a set of all possible guesses (1 to 100)\n",
        "    possible_guesses = set(range(min_value, max_value + 1))\n",
        "\n",
        "    # The AI will keep guessing until it either guesses correctly or reaches the max number of attempts\n",
        "    while attempts < max_attempts:\n",
        "        if not possible_guesses:\n",
        "            print(\"No valid guesses left. Resetting possible guesses.\")\n",
        "            possible_guesses = set(range(min_value, max_value + 1))\n",
        "    # Choose a random guess from the set of possible guesses\n",
        "        guess = random.choice(list(possible_guesses))\n",
        "        attempts += 1   #incrementing\n",
        "\n",
        "    # Show the AI's current guess to the player\n",
        "        print(f\"AI's guess ({attempts}/{max_attempts}) is: {guess}\")\n",
        "        feedback = input(\"Enter 'h' if too high, 'l' if too low, or 'c' if correct: \").strip().lower()\n",
        "\n",
        "        if feedback == 'c':\n",
        "            print(f\"I (AI) guessed the number in {attempts} attempts!\")\n",
        "            return\n",
        "        elif feedback == 'h':\n",
        "            # Remove all guesses greater than the current guess\n",
        "            possible_guesses = {g for g in possible_guesses if g < guess}\n",
        "        elif feedback == 'l':\n",
        "            # Remove all guesses less than the current guess\n",
        "            possible_guesses = {g for g in possible_guesses if g > guess}\n",
        "        else:\n",
        "            print(\"Invalid input. Please enter 'h', 'l', or 'c'.\")\n",
        "\n",
        "    print(f\"I (AI) couldn't guess the number within {max_attempts} attempts. Better luck next time!\")\n",
        "\n",
        "# Run the game\n",
        "ai_number_guessing_game_random_walk() #calling function\n"
      ],
      "metadata": {
        "colab": {
          "base_uri": "https://localhost:8080/"
        },
        "id": "PmIxb2fKT4Sx",
        "outputId": "9b805bd6-c7a8-4ea4-82e9-f550841fc039"
      },
      "execution_count": 3,
      "outputs": [
        {
          "output_type": "stream",
          "name": "stdout",
          "text": [
            "Think of a number between 1 and 100, and I (the AI) will try to guess it using a random walk approach.\n",
            "AI's guess (1/10) is: 80\n",
            "Enter 'h' if too high, 'l' if too low, or 'c' if correct: h\n",
            "AI's guess (2/10) is: 46\n",
            "Enter 'h' if too high, 'l' if too low, or 'c' if correct: l\n",
            "AI's guess (3/10) is: 71\n",
            "Enter 'h' if too high, 'l' if too low, or 'c' if correct: h\n",
            "AI's guess (4/10) is: 67\n",
            "Enter 'h' if too high, 'l' if too low, or 'c' if correct: \n",
            "Invalid input. Please enter 'h', 'l', or 'c'.\n",
            "AI's guess (5/10) is: 51\n",
            "Enter 'h' if too high, 'l' if too low, or 'c' if correct: l\n",
            "AI's guess (6/10) is: 64\n",
            "Enter 'h' if too high, 'l' if too low, or 'c' if correct: l\n",
            "AI's guess (7/10) is: 70\n",
            "Enter 'h' if too high, 'l' if too low, or 'c' if correct: h\n",
            "AI's guess (8/10) is: 66\n",
            "Enter 'h' if too high, 'l' if too low, or 'c' if correct: c\n",
            "I (AI) guessed the number in 8 attempts!\n"
          ]
        }
      ]
    }
  ]
}